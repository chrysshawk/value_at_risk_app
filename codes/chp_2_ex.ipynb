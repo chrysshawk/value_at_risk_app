{
 "cells": [
  {
   "attachments": {},
   "cell_type": "markdown",
   "metadata": {},
   "source": [
    "## Introduction\n",
    "\n",
    "- The classical models include the moving average (MA), autoregressive (AR), and autoregressive integrated moving average (ARIMA) models.\n",
    "- If historical observations are obtained from error terms, we refer to this as a moving average; if these observations come out of time series itself, it is called autoregressive.\n",
    "- Having data with a correlated structure in time implies a violation of the famous identically and independently distributed (IID) assumption, which is at the heart of many models. Hence, due to the correlation in time, the dynamics of a timeseries mayb be better understood by its own historical values.\n"
   ]
  },
  {
   "attachments": {},
   "cell_type": "markdown",
   "metadata": {},
   "source": [
    "## Time Series Components\n",
    "\n",
    "4 Components:\n",
    "1. Trend\n",
    "2. Seasonality\n",
    "3. Cyclicality\n",
    "4. Residual\n",
    "\n"
   ]
  },
  {
   "cell_type": "markdown",
   "metadata": {},
   "source": []
  }
 ],
 "metadata": {
  "language_info": {
   "name": "python"
  },
  "orig_nbformat": 4
 },
 "nbformat": 4,
 "nbformat_minor": 2
}

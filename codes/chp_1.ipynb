{
 "cells": [
  {
   "cell_type": "markdown",
   "metadata": {},
   "source": [
    "## Risk-Return"
   ]
  },
  {
   "cell_type": "code",
   "execution_count": 1,
   "metadata": {},
   "outputs": [],
   "source": [
    "#!pip install plotly\n",
    "import statsmodels.api as sm\n",
    "import numpy as np\n",
    "import plotly.graph_objs as go\n",
    "import matplotlib.pyplot as plt\n",
    "import plotly\n",
    "import warnings\n",
    "warnings.filterwarnings('ignore')\n",
    "plt.rcParams['figure.dpi'] = 300\n",
    "plt.rcParams['savefig.dpi'] = 300"
   ]
  },
  {
   "cell_type": "code",
   "execution_count": 2,
   "metadata": {},
   "outputs": [],
   "source": [
    "n_assets = 5\n",
    "n_simulation = 500"
   ]
  },
  {
   "cell_type": "code",
   "execution_count": 3,
   "metadata": {},
   "outputs": [],
   "source": [
    "returns = np.random.randn(n_assets, n_simulation)"
   ]
  },
  {
   "cell_type": "code",
   "execution_count": 4,
   "metadata": {},
   "outputs": [],
   "source": [
    "rand = np.random.rand(n_assets)\n",
    "weights = rand/sum(rand)\n",
    "\n",
    "def port_return(returns):\n",
    "    rets = np.mean(returns, axis=1)\n",
    "    cov = np.cov(rets.T, aweights=weights, ddof=1)\n",
    "    portfolio_returns = np.dot(weights, rets.T)\n",
    "    portfolio_std_dev = np.sqrt(np.dot(weights, np.dot(cov, weights)))\n",
    "    return portfolio_returns, portfolio_std_dev"
   ]
  },
  {
   "cell_type": "code",
   "execution_count": 5,
   "metadata": {},
   "outputs": [],
   "source": [
    "portfolio_returns, portfolio_std_dev = port_return(returns)"
   ]
  },
  {
   "cell_type": "code",
   "execution_count": 6,
   "metadata": {},
   "outputs": [
    {
     "name": "stdout",
     "output_type": "stream",
     "text": [
      "0.02742043249044121\n",
      "0.023435339658401458\n"
     ]
    }
   ],
   "source": [
    "print(portfolio_returns)\n",
    "print(portfolio_std_dev)"
   ]
  },
  {
   "cell_type": "code",
   "execution_count": 7,
   "metadata": {},
   "outputs": [],
   "source": [
    "portfolio = np.array([port_return(np.random.randn(n_assets, i))\n",
    "                      for i in range(1, 101)])"
   ]
  },
  {
   "cell_type": "code",
   "execution_count": 8,
   "metadata": {},
   "outputs": [],
   "source": [
    "best_fit = sm.OLS(portfolio[:, 1], sm.add_constant(portfolio[:, 0]))\\\n",
    "           .fit().fittedvalues"
   ]
  },
  {
   "cell_type": "code",
   "execution_count": 9,
   "metadata": {
    "scrolled": true
   },
   "outputs": [
    {
     "data": {
      "application/vnd.plotly.v1+json": {
       "config": {
        "plotlyServerURL": "https://plot.ly"
       },
       "data": [
        {
         "mode": "markers",
         "name": "Risk-Return Relationship",
         "type": "scatter",
         "x": [
          -0.8918885577971368,
          0.034977966743810165,
          -0.6597715922271483,
          0.17761860464319565,
          -0.16525705818077704,
          -0.1664061205961855,
          0.16302207145935158,
          0.09404550527550246,
          0.27174752817418135,
          -0.018013214621026664,
          -0.011941442837498067,
          -0.21185338261594422,
          -0.1448005070079363,
          -0.01583019227693557,
          -0.10004393538895531,
          -0.045075329240038854,
          0.12861278155029277,
          0.056585121788289575,
          0.1261510612557217,
          0.026338250324007533,
          0.09278721715697652,
          0.0007682155519478936,
          -0.12943130341264195,
          -0.029927360479097033,
          0.1870639740936783,
          0.019272784483784434,
          0.08638194433374603,
          0.0419126353958126,
          -0.012608486668430853,
          -0.10952571176421816,
          -0.03281669501169608,
          -0.11861879652390607,
          0.020303366782865852,
          0.04368088543851958,
          0.04600024993250604,
          0.011836280608503818,
          -0.05824753359497788,
          0.004710191292653829,
          -0.013024166030130629,
          -0.03125050443706666,
          -0.10200379073305325,
          -0.08972077056696486,
          -0.04545800881945614,
          0.018312400257226538,
          -0.003980514662493831,
          0.18437649805494907,
          0.017096095322344254,
          0.05381499497030922,
          -0.008961232907784951,
          -0.06529294366381627,
          -0.10276795842037298,
          0.05312060550618263,
          -0.07360883195637896,
          -0.05359045474364123,
          0.01718985587564138,
          -0.00632406102975855,
          0.04000639529978608,
          -0.02346177112115371,
          -0.00819979018626911,
          -0.019487041849902284,
          -0.0033675658247966783,
          0.02023923960376195,
          -0.004226975590053194,
          0.11452275445801814,
          0.044931876855534965,
          0.026587898611153005,
          -0.04718231130358597,
          0.0023395916972730707,
          -0.06906161123410991,
          -0.04044544673632928,
          -0.011130992153016236,
          -0.025411707157336105,
          -0.031609393320565025,
          -0.033159147161750675,
          0.05351171046774251,
          -0.005482114586146109,
          -0.07750755166667996,
          0.04592693389230989,
          0.03628985207191587,
          -0.07900078637951832,
          -0.014067219426536454,
          0.009826496609040215,
          0.008945800814166797,
          -0.0890441438507923,
          0.0736215147933782,
          -0.060520976857246826,
          0.007716597000186003,
          -0.01723329220793002,
          -0.05131000500432206,
          -0.09328537536645158,
          -0.03581210007538083,
          -0.10135453931587765,
          0.08170700116224883,
          0.004478338682898738,
          -0.052448257869895015,
          0.04085878262784838,
          -0.04761184169801999,
          0.03608298195955119,
          0.08622491644716593,
          -0.06598648514982332
         ],
         "y": [
          0.28037882749141113,
          0.5121648119728379,
          0.27161097328630934,
          0.15459021783423574,
          0.24312054258874446,
          0.24653230356328476,
          0.19270900798397936,
          0.1745085884096232,
          0.21934454863625166,
          0.15492462670347132,
          0.20088375615755028,
          0.15390715577058608,
          0.12228645152098155,
          0.16426643306029506,
          0.2200265003320355,
          0.06260229724035027,
          0.10964970649703668,
          0.05685960360879611,
          0.09983643578945275,
          0.07507420040590633,
          0.12449114261988674,
          0.07863344739061096,
          0.089246849029991,
          0.12702868251675492,
          0.09816504856018425,
          0.09384503756814129,
          0.10717345825842313,
          0.10087280881863148,
          0.07550534152615807,
          0.0817959453727115,
          0.11057769635948289,
          0.026897660225541235,
          0.043332544870004805,
          0.08224669051918282,
          0.12672476423834741,
          0.05310327878322893,
          0.08083578668956773,
          0.09178307758144576,
          0.06773486058464444,
          0.0903702569539017,
          0.05540929960720164,
          0.10016282606675235,
          0.04981262214300085,
          0.042670033602149195,
          0.07873093117707658,
          0.06649450018402421,
          0.06277061661254844,
          0.06473667850234865,
          0.02134130276746928,
          0.04379096100376286,
          0.07613858212920456,
          0.04782122904647032,
          0.06160935938068373,
          0.027980693643691074,
          0.053841738166410774,
          0.11203902873658855,
          0.021745873622043135,
          0.05210282062057386,
          0.054269949000250554,
          0.07083562627243827,
          0.043250160796688364,
          0.08510327539469438,
          0.07346723192128085,
          0.05464735077896636,
          0.05379743327836921,
          0.06897837184507878,
          0.06608349913318408,
          0.04050902218783929,
          0.03708219427812068,
          0.06680836523592504,
          0.055548316527428976,
          0.04672441863243687,
          0.07303605558035324,
          0.05133835100737657,
          0.0551415696254157,
          0.06280313949145203,
          0.023430617647180626,
          0.0599424449687426,
          0.04612086010787101,
          0.014912660468272592,
          0.05306821410881137,
          0.0346718778463976,
          0.06250502935576116,
          0.03925188736341424,
          0.056072966910145995,
          0.020244653424776708,
          0.019761914562420976,
          0.038207538294242595,
          0.07703219545363374,
          0.07370754429105505,
          0.03457248998019348,
          0.051992073311816774,
          0.057620504315368845,
          0.06246107457511214,
          0.0242162529216179,
          0.07812238594161702,
          0.01899499008079524,
          0.056502698943810506,
          0.04400937446338475,
          0.04647765365450477
         ]
        },
        {
         "mode": "lines",
         "name": "Best Fit Line",
         "type": "scatter",
         "x": [
          -0.8918885577971368,
          0.034977966743810165,
          -0.6597715922271483,
          0.17761860464319565,
          -0.16525705818077704,
          -0.1664061205961855,
          0.16302207145935158,
          0.09404550527550246,
          0.27174752817418135,
          -0.018013214621026664,
          -0.011941442837498067,
          -0.21185338261594422,
          -0.1448005070079363,
          -0.01583019227693557,
          -0.10004393538895531,
          -0.045075329240038854,
          0.12861278155029277,
          0.056585121788289575,
          0.1261510612557217,
          0.026338250324007533,
          0.09278721715697652,
          0.0007682155519478936,
          -0.12943130341264195,
          -0.029927360479097033,
          0.1870639740936783,
          0.019272784483784434,
          0.08638194433374603,
          0.0419126353958126,
          -0.012608486668430853,
          -0.10952571176421816,
          -0.03281669501169608,
          -0.11861879652390607,
          0.020303366782865852,
          0.04368088543851958,
          0.04600024993250604,
          0.011836280608503818,
          -0.05824753359497788,
          0.004710191292653829,
          -0.013024166030130629,
          -0.03125050443706666,
          -0.10200379073305325,
          -0.08972077056696486,
          -0.04545800881945614,
          0.018312400257226538,
          -0.003980514662493831,
          0.18437649805494907,
          0.017096095322344254,
          0.05381499497030922,
          -0.008961232907784951,
          -0.06529294366381627,
          -0.10276795842037298,
          0.05312060550618263,
          -0.07360883195637896,
          -0.05359045474364123,
          0.01718985587564138,
          -0.00632406102975855,
          0.04000639529978608,
          -0.02346177112115371,
          -0.00819979018626911,
          -0.019487041849902284,
          -0.0033675658247966783,
          0.02023923960376195,
          -0.004226975590053194,
          0.11452275445801814,
          0.044931876855534965,
          0.026587898611153005,
          -0.04718231130358597,
          0.0023395916972730707,
          -0.06906161123410991,
          -0.04044544673632928,
          -0.011130992153016236,
          -0.025411707157336105,
          -0.031609393320565025,
          -0.033159147161750675,
          0.05351171046774251,
          -0.005482114586146109,
          -0.07750755166667996,
          0.04592693389230989,
          0.03628985207191587,
          -0.07900078637951832,
          -0.014067219426536454,
          0.009826496609040215,
          0.008945800814166797,
          -0.0890441438507923,
          0.0736215147933782,
          -0.060520976857246826,
          0.007716597000186003,
          -0.01723329220793002,
          -0.05131000500432206,
          -0.09328537536645158,
          -0.03581210007538083,
          -0.10135453931587765,
          0.08170700116224883,
          0.004478338682898738,
          -0.052448257869895015,
          0.04085878262784838,
          -0.04761184169801999,
          0.03608298195955119,
          0.08622491644716593,
          -0.06598648514982332
         ],
         "y": [
          0.20716350603651487,
          0.07910466987233515,
          0.17509348551271234,
          0.05939698425044007,
          0.10676977975840846,
          0.10692853788776271,
          0.061413687844822956,
          0.07094371029598442,
          0.04639183186052594,
          0.08642610055611877,
          0.08558720519474161,
          0.11320767660623277,
          0.10394343738249363,
          0.08612448722420654,
          0.0977597266534174,
          0.09016508865256419,
          0.06616778512023411,
          0.07611935639455535,
          0.06650790425016023,
          0.08029836065759298,
          0.071117559396962,
          0.08383119824195749,
          0.10181997917888821,
          0.08807219695951453,
          0.05809198187205708,
          0.08127454796018746,
          0.0720025323260072,
          0.07814655392656887,
          0.08567936609860212,
          0.09906975912868296,
          0.0884713966368541,
          0.10032608873023438,
          0.0811321594217114,
          0.07790224685913166,
          0.07758179606079527,
          0.08230199906148869,
          0.09198500243167675,
          0.08328656229689274,
          0.0857367976854243,
          0.08825500675018981,
          0.09803050652060445,
          0.096333445265933,
          0.09021796088418163,
          0.0814072377089993,
          0.08448729795903409,
          0.0584632921358615,
          0.08157528627937885,
          0.07650208595371538,
          0.08517544988260213,
          0.0929584187649095,
          0.09813608636633349,
          0.0765980250175032,
          0.09410736842294612,
          0.09134156555933705,
          0.08156233202219572,
          0.08481108980213399,
          0.07840992614002491,
          0.08717889050559571,
          0.08507024652684246,
          0.08662972922825186,
          0.08440261099202709,
          0.0811410194373718,
          0.08452134978711022,
          0.06811450821701669,
          0.07772940589371466,
          0.08026386845374728,
          0.09045619601671274,
          0.08361409190030149,
          0.09347910990021673,
          0.0895254093143816,
          0.08547523074246045,
          0.08744829988955398,
          0.08830459198335575,
          0.08851871091848666,
          0.07654398870820806,
          0.08469476379528529,
          0.09464602797684334,
          0.0775919256388209,
          0.07892341560988211,
          0.09485233804887959,
          0.08588090927049527,
          0.08257967723099661,
          0.08270135697184391,
          0.09623996036007391,
          0.07376555398298618,
          0.09229910860612904,
          0.08287118769251312,
          0.08631834398721153,
          0.09102649134766158,
          0.09682594243777078,
          0.08888525135718263,
          0.09794080387339467,
          0.07264843738981573,
          0.08331859579317374,
          0.0911837559951231,
          0.07829215758726936,
          0.0905155413064087,
          0.07895199744461792,
          0.07202422779980881,
          0.09305424066933488
         ]
        }
       ],
       "layout": {
        "height": 470,
        "template": {
         "data": {
          "bar": [
           {
            "error_x": {
             "color": "#2a3f5f"
            },
            "error_y": {
             "color": "#2a3f5f"
            },
            "marker": {
             "line": {
              "color": "#E5ECF6",
              "width": 0.5
             },
             "pattern": {
              "fillmode": "overlay",
              "size": 10,
              "solidity": 0.2
             }
            },
            "type": "bar"
           }
          ],
          "barpolar": [
           {
            "marker": {
             "line": {
              "color": "#E5ECF6",
              "width": 0.5
             },
             "pattern": {
              "fillmode": "overlay",
              "size": 10,
              "solidity": 0.2
             }
            },
            "type": "barpolar"
           }
          ],
          "carpet": [
           {
            "aaxis": {
             "endlinecolor": "#2a3f5f",
             "gridcolor": "white",
             "linecolor": "white",
             "minorgridcolor": "white",
             "startlinecolor": "#2a3f5f"
            },
            "baxis": {
             "endlinecolor": "#2a3f5f",
             "gridcolor": "white",
             "linecolor": "white",
             "minorgridcolor": "white",
             "startlinecolor": "#2a3f5f"
            },
            "type": "carpet"
           }
          ],
          "choropleth": [
           {
            "colorbar": {
             "outlinewidth": 0,
             "ticks": ""
            },
            "type": "choropleth"
           }
          ],
          "contour": [
           {
            "colorbar": {
             "outlinewidth": 0,
             "ticks": ""
            },
            "colorscale": [
             [
              0,
              "#0d0887"
             ],
             [
              0.1111111111111111,
              "#46039f"
             ],
             [
              0.2222222222222222,
              "#7201a8"
             ],
             [
              0.3333333333333333,
              "#9c179e"
             ],
             [
              0.4444444444444444,
              "#bd3786"
             ],
             [
              0.5555555555555556,
              "#d8576b"
             ],
             [
              0.6666666666666666,
              "#ed7953"
             ],
             [
              0.7777777777777778,
              "#fb9f3a"
             ],
             [
              0.8888888888888888,
              "#fdca26"
             ],
             [
              1,
              "#f0f921"
             ]
            ],
            "type": "contour"
           }
          ],
          "contourcarpet": [
           {
            "colorbar": {
             "outlinewidth": 0,
             "ticks": ""
            },
            "type": "contourcarpet"
           }
          ],
          "heatmap": [
           {
            "colorbar": {
             "outlinewidth": 0,
             "ticks": ""
            },
            "colorscale": [
             [
              0,
              "#0d0887"
             ],
             [
              0.1111111111111111,
              "#46039f"
             ],
             [
              0.2222222222222222,
              "#7201a8"
             ],
             [
              0.3333333333333333,
              "#9c179e"
             ],
             [
              0.4444444444444444,
              "#bd3786"
             ],
             [
              0.5555555555555556,
              "#d8576b"
             ],
             [
              0.6666666666666666,
              "#ed7953"
             ],
             [
              0.7777777777777778,
              "#fb9f3a"
             ],
             [
              0.8888888888888888,
              "#fdca26"
             ],
             [
              1,
              "#f0f921"
             ]
            ],
            "type": "heatmap"
           }
          ],
          "heatmapgl": [
           {
            "colorbar": {
             "outlinewidth": 0,
             "ticks": ""
            },
            "colorscale": [
             [
              0,
              "#0d0887"
             ],
             [
              0.1111111111111111,
              "#46039f"
             ],
             [
              0.2222222222222222,
              "#7201a8"
             ],
             [
              0.3333333333333333,
              "#9c179e"
             ],
             [
              0.4444444444444444,
              "#bd3786"
             ],
             [
              0.5555555555555556,
              "#d8576b"
             ],
             [
              0.6666666666666666,
              "#ed7953"
             ],
             [
              0.7777777777777778,
              "#fb9f3a"
             ],
             [
              0.8888888888888888,
              "#fdca26"
             ],
             [
              1,
              "#f0f921"
             ]
            ],
            "type": "heatmapgl"
           }
          ],
          "histogram": [
           {
            "marker": {
             "pattern": {
              "fillmode": "overlay",
              "size": 10,
              "solidity": 0.2
             }
            },
            "type": "histogram"
           }
          ],
          "histogram2d": [
           {
            "colorbar": {
             "outlinewidth": 0,
             "ticks": ""
            },
            "colorscale": [
             [
              0,
              "#0d0887"
             ],
             [
              0.1111111111111111,
              "#46039f"
             ],
             [
              0.2222222222222222,
              "#7201a8"
             ],
             [
              0.3333333333333333,
              "#9c179e"
             ],
             [
              0.4444444444444444,
              "#bd3786"
             ],
             [
              0.5555555555555556,
              "#d8576b"
             ],
             [
              0.6666666666666666,
              "#ed7953"
             ],
             [
              0.7777777777777778,
              "#fb9f3a"
             ],
             [
              0.8888888888888888,
              "#fdca26"
             ],
             [
              1,
              "#f0f921"
             ]
            ],
            "type": "histogram2d"
           }
          ],
          "histogram2dcontour": [
           {
            "colorbar": {
             "outlinewidth": 0,
             "ticks": ""
            },
            "colorscale": [
             [
              0,
              "#0d0887"
             ],
             [
              0.1111111111111111,
              "#46039f"
             ],
             [
              0.2222222222222222,
              "#7201a8"
             ],
             [
              0.3333333333333333,
              "#9c179e"
             ],
             [
              0.4444444444444444,
              "#bd3786"
             ],
             [
              0.5555555555555556,
              "#d8576b"
             ],
             [
              0.6666666666666666,
              "#ed7953"
             ],
             [
              0.7777777777777778,
              "#fb9f3a"
             ],
             [
              0.8888888888888888,
              "#fdca26"
             ],
             [
              1,
              "#f0f921"
             ]
            ],
            "type": "histogram2dcontour"
           }
          ],
          "mesh3d": [
           {
            "colorbar": {
             "outlinewidth": 0,
             "ticks": ""
            },
            "type": "mesh3d"
           }
          ],
          "parcoords": [
           {
            "line": {
             "colorbar": {
              "outlinewidth": 0,
              "ticks": ""
             }
            },
            "type": "parcoords"
           }
          ],
          "pie": [
           {
            "automargin": true,
            "type": "pie"
           }
          ],
          "scatter": [
           {
            "fillpattern": {
             "fillmode": "overlay",
             "size": 10,
             "solidity": 0.2
            },
            "type": "scatter"
           }
          ],
          "scatter3d": [
           {
            "line": {
             "colorbar": {
              "outlinewidth": 0,
              "ticks": ""
             }
            },
            "marker": {
             "colorbar": {
              "outlinewidth": 0,
              "ticks": ""
             }
            },
            "type": "scatter3d"
           }
          ],
          "scattercarpet": [
           {
            "marker": {
             "colorbar": {
              "outlinewidth": 0,
              "ticks": ""
             }
            },
            "type": "scattercarpet"
           }
          ],
          "scattergeo": [
           {
            "marker": {
             "colorbar": {
              "outlinewidth": 0,
              "ticks": ""
             }
            },
            "type": "scattergeo"
           }
          ],
          "scattergl": [
           {
            "marker": {
             "colorbar": {
              "outlinewidth": 0,
              "ticks": ""
             }
            },
            "type": "scattergl"
           }
          ],
          "scattermapbox": [
           {
            "marker": {
             "colorbar": {
              "outlinewidth": 0,
              "ticks": ""
             }
            },
            "type": "scattermapbox"
           }
          ],
          "scatterpolar": [
           {
            "marker": {
             "colorbar": {
              "outlinewidth": 0,
              "ticks": ""
             }
            },
            "type": "scatterpolar"
           }
          ],
          "scatterpolargl": [
           {
            "marker": {
             "colorbar": {
              "outlinewidth": 0,
              "ticks": ""
             }
            },
            "type": "scatterpolargl"
           }
          ],
          "scatterternary": [
           {
            "marker": {
             "colorbar": {
              "outlinewidth": 0,
              "ticks": ""
             }
            },
            "type": "scatterternary"
           }
          ],
          "surface": [
           {
            "colorbar": {
             "outlinewidth": 0,
             "ticks": ""
            },
            "colorscale": [
             [
              0,
              "#0d0887"
             ],
             [
              0.1111111111111111,
              "#46039f"
             ],
             [
              0.2222222222222222,
              "#7201a8"
             ],
             [
              0.3333333333333333,
              "#9c179e"
             ],
             [
              0.4444444444444444,
              "#bd3786"
             ],
             [
              0.5555555555555556,
              "#d8576b"
             ],
             [
              0.6666666666666666,
              "#ed7953"
             ],
             [
              0.7777777777777778,
              "#fb9f3a"
             ],
             [
              0.8888888888888888,
              "#fdca26"
             ],
             [
              1,
              "#f0f921"
             ]
            ],
            "type": "surface"
           }
          ],
          "table": [
           {
            "cells": {
             "fill": {
              "color": "#EBF0F8"
             },
             "line": {
              "color": "white"
             }
            },
            "header": {
             "fill": {
              "color": "#C8D4E3"
             },
             "line": {
              "color": "white"
             }
            },
            "type": "table"
           }
          ]
         },
         "layout": {
          "annotationdefaults": {
           "arrowcolor": "#2a3f5f",
           "arrowhead": 0,
           "arrowwidth": 1
          },
          "autotypenumbers": "strict",
          "coloraxis": {
           "colorbar": {
            "outlinewidth": 0,
            "ticks": ""
           }
          },
          "colorscale": {
           "diverging": [
            [
             0,
             "#8e0152"
            ],
            [
             0.1,
             "#c51b7d"
            ],
            [
             0.2,
             "#de77ae"
            ],
            [
             0.3,
             "#f1b6da"
            ],
            [
             0.4,
             "#fde0ef"
            ],
            [
             0.5,
             "#f7f7f7"
            ],
            [
             0.6,
             "#e6f5d0"
            ],
            [
             0.7,
             "#b8e186"
            ],
            [
             0.8,
             "#7fbc41"
            ],
            [
             0.9,
             "#4d9221"
            ],
            [
             1,
             "#276419"
            ]
           ],
           "sequential": [
            [
             0,
             "#0d0887"
            ],
            [
             0.1111111111111111,
             "#46039f"
            ],
            [
             0.2222222222222222,
             "#7201a8"
            ],
            [
             0.3333333333333333,
             "#9c179e"
            ],
            [
             0.4444444444444444,
             "#bd3786"
            ],
            [
             0.5555555555555556,
             "#d8576b"
            ],
            [
             0.6666666666666666,
             "#ed7953"
            ],
            [
             0.7777777777777778,
             "#fb9f3a"
            ],
            [
             0.8888888888888888,
             "#fdca26"
            ],
            [
             1,
             "#f0f921"
            ]
           ],
           "sequentialminus": [
            [
             0,
             "#0d0887"
            ],
            [
             0.1111111111111111,
             "#46039f"
            ],
            [
             0.2222222222222222,
             "#7201a8"
            ],
            [
             0.3333333333333333,
             "#9c179e"
            ],
            [
             0.4444444444444444,
             "#bd3786"
            ],
            [
             0.5555555555555556,
             "#d8576b"
            ],
            [
             0.6666666666666666,
             "#ed7953"
            ],
            [
             0.7777777777777778,
             "#fb9f3a"
            ],
            [
             0.8888888888888888,
             "#fdca26"
            ],
            [
             1,
             "#f0f921"
            ]
           ]
          },
          "colorway": [
           "#636efa",
           "#EF553B",
           "#00cc96",
           "#ab63fa",
           "#FFA15A",
           "#19d3f3",
           "#FF6692",
           "#B6E880",
           "#FF97FF",
           "#FECB52"
          ],
          "font": {
           "color": "#2a3f5f"
          },
          "geo": {
           "bgcolor": "white",
           "lakecolor": "white",
           "landcolor": "#E5ECF6",
           "showlakes": true,
           "showland": true,
           "subunitcolor": "white"
          },
          "hoverlabel": {
           "align": "left"
          },
          "hovermode": "closest",
          "mapbox": {
           "style": "light"
          },
          "paper_bgcolor": "white",
          "plot_bgcolor": "#E5ECF6",
          "polar": {
           "angularaxis": {
            "gridcolor": "white",
            "linecolor": "white",
            "ticks": ""
           },
           "bgcolor": "#E5ECF6",
           "radialaxis": {
            "gridcolor": "white",
            "linecolor": "white",
            "ticks": ""
           }
          },
          "scene": {
           "xaxis": {
            "backgroundcolor": "#E5ECF6",
            "gridcolor": "white",
            "gridwidth": 2,
            "linecolor": "white",
            "showbackground": true,
            "ticks": "",
            "zerolinecolor": "white"
           },
           "yaxis": {
            "backgroundcolor": "#E5ECF6",
            "gridcolor": "white",
            "gridwidth": 2,
            "linecolor": "white",
            "showbackground": true,
            "ticks": "",
            "zerolinecolor": "white"
           },
           "zaxis": {
            "backgroundcolor": "#E5ECF6",
            "gridcolor": "white",
            "gridwidth": 2,
            "linecolor": "white",
            "showbackground": true,
            "ticks": "",
            "zerolinecolor": "white"
           }
          },
          "shapedefaults": {
           "line": {
            "color": "#2a3f5f"
           }
          },
          "ternary": {
           "aaxis": {
            "gridcolor": "white",
            "linecolor": "white",
            "ticks": ""
           },
           "baxis": {
            "gridcolor": "white",
            "linecolor": "white",
            "ticks": ""
           },
           "bgcolor": "#E5ECF6",
           "caxis": {
            "gridcolor": "white",
            "linecolor": "white",
            "ticks": ""
           }
          },
          "title": {
           "x": 0.05
          },
          "xaxis": {
           "automargin": true,
           "gridcolor": "white",
           "linecolor": "white",
           "ticks": "",
           "title": {
            "standoff": 15
           },
           "zerolinecolor": "white",
           "zerolinewidth": 2
          },
          "yaxis": {
           "automargin": true,
           "gridcolor": "white",
           "linecolor": "white",
           "ticks": "",
           "title": {
            "standoff": 15
           },
           "zerolinecolor": "white",
           "zerolinewidth": 2
          }
         }
        },
        "width": 900,
        "xaxis": {
         "title": {
          "text": "Return"
         }
        },
        "yaxis": {
         "title": {
          "text": "Standard Deviation"
         }
        }
       }
      }
     },
     "metadata": {},
     "output_type": "display_data"
    }
   ],
   "source": [
    "fig = go.Figure()\n",
    "fig.add_trace(go.Scatter(name='Risk-Return Relationship',\n",
    "                         x=portfolio[:, 0],\n",
    "                         y=portfolio[:, 1], mode='markers'))\n",
    "fig.add_trace(go.Scatter(name='Best Fit Line',\n",
    "                         x=portfolio[:, 0],\n",
    "                         y=best_fit, mode='lines'))\n",
    "fig.update_layout(xaxis_title = 'Return',\n",
    "                  yaxis_title = 'Standard Deviation',\n",
    "                  width=900, height=470)\n",
    "fig.show()"
   ]
  },
  {
   "cell_type": "markdown",
   "metadata": {},
   "source": [
    "## Adverse Selection"
   ]
  },
  {
   "cell_type": "code",
   "execution_count": 10,
   "metadata": {},
   "outputs": [],
   "source": [
    "import matplotlib.pyplot as plt\n",
    "import numpy as np\n",
    "plt.style.use('seaborn')"
   ]
  },
  {
   "cell_type": "code",
   "execution_count": 11,
   "metadata": {},
   "outputs": [],
   "source": [
    "def utility(x):\n",
    "    return(np.exp(x**gamma))"
   ]
  },
  {
   "cell_type": "code",
   "execution_count": 12,
   "metadata": {},
   "outputs": [],
   "source": [
    "pi = np.random.uniform(0,1,20)\n",
    "pi = np.sort(pi)"
   ]
  },
  {
   "cell_type": "code",
   "execution_count": 13,
   "metadata": {},
   "outputs": [
    {
     "name": "stdout",
     "output_type": "stream",
     "text": [
      "The highest three probability of losses are [0.96241933 0.99102292 0.99583589]\n"
     ]
    }
   ],
   "source": [
    "print('The highest three probability of losses are {}'\n",
    "      .format(pi[-3:]))"
   ]
  },
  {
   "cell_type": "code",
   "execution_count": 14,
   "metadata": {},
   "outputs": [],
   "source": [
    "y = 2\n",
    "c = 1.5\n",
    "Q = 5\n",
    "D = 0.01\n",
    "gamma = 0.4"
   ]
  },
  {
   "cell_type": "code",
   "execution_count": 15,
   "metadata": {},
   "outputs": [],
   "source": [
    "def supply(Q):\n",
    "    return(np.mean(pi[-Q:]) * c)"
   ]
  },
  {
   "cell_type": "code",
   "execution_count": 16,
   "metadata": {},
   "outputs": [],
   "source": [
    "def demand(D):\n",
    "    return(np.sum(utility(y - D) > pi * utility(y - c) + (1 - pi) \n",
    "                  * utility(y)))"
   ]
  },
  {
   "cell_type": "code",
   "execution_count": 17,
   "metadata": {},
   "outputs": [
    {
     "data": {
      "image/png": "[encoded data removed]",
      "text/plain": [
       "<Figure size 2400x1650 with 1 Axes>"
      ]
     },
     "metadata": {},
     "output_type": "display_data"
    }
   ],
   "source": [
    "plt.figure()\n",
    "plt.plot([demand(i) for i in np.arange(0, 1.9, 0.02)],\n",
    "         np.arange(0, 1.9, 0.02), \n",
    "         'r', label='insurance demand')\n",
    "plt.plot(range(1,21), [supply(j) for j in range(1,21)],\n",
    "         'g', label='insurance supply')\n",
    "plt.ylabel(\"Average Cost\")\n",
    "plt.xlabel(\"Number of People\")\n",
    "plt.legend()\n",
    "plt.show()\n"
   ]
  },
  {
   "cell_type": "code",
   "execution_count": null,
   "metadata": {},
   "outputs": [],
   "source": []
  }
 ],
 "metadata": {
  "kernelspec": {
   "display_name": "Python 3",
   "language": "python",
   "name": "python3"
  },
  "language_info": {
   "codemirror_mode": {
    "name": "ipython",
    "version": 3
   },
   "file_extension": ".py",
   "mimetype": "text/x-python",
   "name": "python",
   "nbconvert_exporter": "python",
   "pygments_lexer": "ipython3",
   "version": "3.8.2"
  },
  "latex_envs": {
   "LaTeX_envs_menu_present": true,
   "autoclose": false,
   "autocomplete": true,
   "bibliofile": "biblio.bib",
   "cite_by": "apalike",
   "current_citInitial": 1,
   "eqLabelWithNumbers": true,
   "eqNumInitial": 1,
   "hotkeys": {
    "equation": "Ctrl-E",
    "itemize": "Ctrl-I"
   },
   "labels_anchors": false,
   "latex_user_defs": false,
   "report_style_numbering": false,
   "user_envs_cfg": false
  },
  "toc": {
   "base_numbering": 1,
   "nav_menu": {},
   "number_sections": false,
   "sideBar": true,
   "skip_h1_title": false,
   "title_cell": "Table of Contents",
   "title_sidebar": "Contents",
   "toc_cell": false,
   "toc_position": {},
   "toc_section_display": true,
   "toc_window_display": false
  }
 },
 "nbformat": 4,
 "nbformat_minor": 4
}
